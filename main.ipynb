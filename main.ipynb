{
 "cells": [
  {
   "cell_type": "markdown",
   "metadata": {},
   "source": [
    "### Library"
   ]
  },
  {
   "cell_type": "code",
   "execution_count": null,
   "metadata": {},
   "outputs": [],
   "source": [
    "# !pip install torch==2.2.2 torchvision==0.17.2 torchaudio==2.2.2 --index-url https://download.pytorch.org/whl/cpu"
   ]
  },
  {
   "cell_type": "code",
   "execution_count": 6,
   "metadata": {},
   "outputs": [],
   "source": [
    "# Warning control\n",
    "import warnings\n",
    "warnings.filterwarnings('ignore')"
   ]
  },
  {
   "cell_type": "code",
   "execution_count": 12,
   "metadata": {},
   "outputs": [],
   "source": [
    "import torch\n",
    "import numpy as np\n",
    "import seaborn as sns\n",
    "import pandas as pd\n",
    "import scipy\n",
    "\n",
    "from transformers import BertModel, BertTokenizer\n",
    "from sentence_transformers import SentenceTransformer"
   ]
  },
  {
   "cell_type": "markdown",
   "metadata": {},
   "source": [
    "### Dataset"
   ]
  },
  {
   "cell_type": "code",
   "execution_count": 47,
   "metadata": {},
   "outputs": [],
   "source": [
    "tables = [\"inventory\", \"rental\", \"payment\", \"staff\", \"actor\", \"film_actor\", \"language\", \"film\", \"film category\", \"category\", \"customer\", \"address\", \"city\", \"country\", \"store\"]\n",
    "sentences = [\"Which customers have rented films starring Tom Hanks?\", \n",
    "             \"What are the total payments made by John Doe?\", \n",
    "             \"Which films are available in English and what are their categories?\",\n",
    "             \"Which staff members are associated with Store 1 and what are their roles?\",\n",
    "             \"What are the most rented film categories in New York City?\",\n",
    "             \"Which actors have appeared in the most films?\",\n",
    "             \"How many different languages are spoken in the films?\",\n",
    "             \"What is the total inventory count across all stores?\",\n",
    "             \"Which city has the highest number of film rentals?\",\n",
    "             \"What are the popular film categories in each country?\"\n",
    "            ]"
   ]
  },
  {
   "cell_type": "markdown",
   "metadata": {},
   "source": [
    "### Embedding Model"
   ]
  },
  {
   "cell_type": "code",
   "execution_count": null,
   "metadata": {},
   "outputs": [],
   "source": [
    "model_name = \"bert-base-uncased\"\n",
    "tokenizer = BertTokenizer.from_pretrained(model_name)\n",
    "model = BertModel.from_pretrained(model_name)\n",
    "\n",
    "def get_sentence_embedding(sentence):\n",
    "    encoded_input = tokenizer(sentence, padding=True, truncation=True, return_tensors='pt')\n",
    "    attention_mask = encoded_input['attention_mask']   # to indicate which tokens are valid and which are padding\n",
    "    \n",
    "    # Get the model output (without the specific classification head)\n",
    "    with torch.no_grad():\n",
    "        output = model(**encoded_input)\n",
    "\n",
    "    token_embeddings = output.last_hidden_state\n",
    "    input_mask_expanded = attention_mask.unsqueeze(-1).expand(token_embeddings.size()).float()\n",
    "\n",
    "    # mean pooling operation, considering the BERT input_mask and padding\n",
    "    sentence_embedding = torch.sum(token_embeddings * input_mask_expanded, 1) / torch.clamp(input_mask_expanded.sum(1), min=1e-9)\n",
    "    \n",
    "    return sentence_embedding.flatten().tolist()"
   ]
  },
  {
   "cell_type": "markdown",
   "metadata": {},
   "source": [
    "### Helper Function"
   ]
  },
  {
   "cell_type": "code",
   "execution_count": 18,
   "metadata": {},
   "outputs": [],
   "source": [
    "def cosine_similarity_matrix(features):\n",
    "    norms = np.linalg.norm(features, axis=1, keepdims=True)\n",
    "    normalized_features = features / norms\n",
    "    similarity_matrix = np.inner(normalized_features, normalized_features)\n",
    "    rounded_similarity_matrix = np.round(similarity_matrix, 4)\n",
    "    return rounded_similarity_matrix"
   ]
  },
  {
   "cell_type": "code",
   "execution_count": 33,
   "metadata": {},
   "outputs": [],
   "source": [
    "# Helper function to plot similarity matrix\n",
    "def plot_similarity(labels, features, rotation):\n",
    "    sim = cosine_similarity_matrix(features)\n",
    "    sns.set_theme(font_scale=1.2)\n",
    "    g = sns.heatmap(sim, xticklabels=labels, yticklabels=labels, vmin=0, vmax=1, cmap=\"YlOrRd\")\n",
    "    g.set_xticklabels(labels, rotation=rotation)\n",
    "    g.set_title(\"Semantic Textual Similarity\")\n",
    "    return g"
   ]
  },
  {
   "cell_type": "markdown",
   "metadata": {},
   "source": [
    "### Similarity Function"
   ]
  },
  {
   "cell_type": "code",
   "execution_count": 48,
   "metadata": {},
   "outputs": [],
   "source": [
    "def sim_two_sentences_word_embedding(s1, s2):\n",
    "    emb1 = get_sentence_embedding(s1)\n",
    "    emb2 = get_sentence_embedding(s2)\n",
    "    sim = cosine_similarity_matrix(np.vstack([emb1, emb2]))\n",
    "    return sim[0,1]\n",
    "\n",
    "\n",
    "model = SentenceTransformer(\"sentence-transformers/all-MiniLM-L6-v2\")\n",
    "def sim_two_sentences_sentence_embedding(s1, s2, model=model):\n",
    "    emb1 = list(model.encode(s1))\n",
    "    emb2 = list(model.encode(s2))\n",
    "    sim = cosine_similarity_matrix(np.vstack([emb1, emb2]))\n",
    "    return sim[0,1]"
   ]
  },
  {
   "cell_type": "code",
   "execution_count": 52,
   "metadata": {},
   "outputs": [
    {
     "data": {
      "text/html": [
       "<div>\n",
       "<style scoped>\n",
       "    .dataframe tbody tr th:only-of-type {\n",
       "        vertical-align: middle;\n",
       "    }\n",
       "\n",
       "    .dataframe tbody tr th {\n",
       "        vertical-align: top;\n",
       "    }\n",
       "\n",
       "    .dataframe thead th {\n",
       "        text-align: right;\n",
       "    }\n",
       "</style>\n",
       "<table border=\"1\" class=\"dataframe\">\n",
       "  <thead>\n",
       "    <tr style=\"text-align: right;\">\n",
       "      <th></th>\n",
       "      <th>table</th>\n",
       "      <th>similarity</th>\n",
       "      <th>sentence</th>\n",
       "    </tr>\n",
       "  </thead>\n",
       "  <tbody>\n",
       "    <tr>\n",
       "      <th>1</th>\n",
       "      <td>rental</td>\n",
       "      <td>0.5648</td>\n",
       "      <td>Which city has the highest number of film rentals?</td>\n",
       "    </tr>\n",
       "    <tr>\n",
       "      <th>8</th>\n",
       "      <td>film category</td>\n",
       "      <td>0.4956</td>\n",
       "      <td>Which city has the highest number of film rentals?</td>\n",
       "    </tr>\n",
       "    <tr>\n",
       "      <th>12</th>\n",
       "      <td>city</td>\n",
       "      <td>0.4625</td>\n",
       "      <td>Which city has the highest number of film rentals?</td>\n",
       "    </tr>\n",
       "    <tr>\n",
       "      <th>7</th>\n",
       "      <td>film</td>\n",
       "      <td>0.4057</td>\n",
       "      <td>Which city has the highest number of film rentals?</td>\n",
       "    </tr>\n",
       "    <tr>\n",
       "      <th>5</th>\n",
       "      <td>film_actor</td>\n",
       "      <td>0.3808</td>\n",
       "      <td>Which city has the highest number of film rentals?</td>\n",
       "    </tr>\n",
       "    <tr>\n",
       "      <th>4</th>\n",
       "      <td>actor</td>\n",
       "      <td>0.2181</td>\n",
       "      <td>Which city has the highest number of film rentals?</td>\n",
       "    </tr>\n",
       "    <tr>\n",
       "      <th>13</th>\n",
       "      <td>country</td>\n",
       "      <td>0.2098</td>\n",
       "      <td>Which city has the highest number of film rentals?</td>\n",
       "    </tr>\n",
       "    <tr>\n",
       "      <th>14</th>\n",
       "      <td>store</td>\n",
       "      <td>0.2065</td>\n",
       "      <td>Which city has the highest number of film rentals?</td>\n",
       "    </tr>\n",
       "    <tr>\n",
       "      <th>11</th>\n",
       "      <td>address</td>\n",
       "      <td>0.1355</td>\n",
       "      <td>Which city has the highest number of film rentals?</td>\n",
       "    </tr>\n",
       "    <tr>\n",
       "      <th>6</th>\n",
       "      <td>language</td>\n",
       "      <td>0.1001</td>\n",
       "      <td>Which city has the highest number of film rentals?</td>\n",
       "    </tr>\n",
       "    <tr>\n",
       "      <th>0</th>\n",
       "      <td>inventory</td>\n",
       "      <td>0.0991</td>\n",
       "      <td>Which city has the highest number of film rentals?</td>\n",
       "    </tr>\n",
       "    <tr>\n",
       "      <th>2</th>\n",
       "      <td>payment</td>\n",
       "      <td>0.0985</td>\n",
       "      <td>Which city has the highest number of film rentals?</td>\n",
       "    </tr>\n",
       "    <tr>\n",
       "      <th>9</th>\n",
       "      <td>category</td>\n",
       "      <td>0.0875</td>\n",
       "      <td>Which city has the highest number of film rentals?</td>\n",
       "    </tr>\n",
       "    <tr>\n",
       "      <th>10</th>\n",
       "      <td>customer</td>\n",
       "      <td>0.0810</td>\n",
       "      <td>Which city has the highest number of film rentals?</td>\n",
       "    </tr>\n",
       "    <tr>\n",
       "      <th>3</th>\n",
       "      <td>staff</td>\n",
       "      <td>0.0565</td>\n",
       "      <td>Which city has the highest number of film rentals?</td>\n",
       "    </tr>\n",
       "  </tbody>\n",
       "</table>\n",
       "</div>"
      ],
      "text/plain": [
       "            table  similarity  \\\n",
       "1          rental      0.5648   \n",
       "8   film category      0.4956   \n",
       "12           city      0.4625   \n",
       "7            film      0.4057   \n",
       "5      film_actor      0.3808   \n",
       "4           actor      0.2181   \n",
       "13        country      0.2098   \n",
       "14          store      0.2065   \n",
       "11        address      0.1355   \n",
       "6        language      0.1001   \n",
       "0       inventory      0.0991   \n",
       "2         payment      0.0985   \n",
       "9        category      0.0875   \n",
       "10       customer      0.0810   \n",
       "3           staff      0.0565   \n",
       "\n",
       "                                              sentence  \n",
       "1   Which city has the highest number of film rentals?  \n",
       "8   Which city has the highest number of film rentals?  \n",
       "12  Which city has the highest number of film rentals?  \n",
       "7   Which city has the highest number of film rentals?  \n",
       "5   Which city has the highest number of film rentals?  \n",
       "4   Which city has the highest number of film rentals?  \n",
       "13  Which city has the highest number of film rentals?  \n",
       "14  Which city has the highest number of film rentals?  \n",
       "11  Which city has the highest number of film rentals?  \n",
       "6   Which city has the highest number of film rentals?  \n",
       "0   Which city has the highest number of film rentals?  \n",
       "2   Which city has the highest number of film rentals?  \n",
       "9   Which city has the highest number of film rentals?  \n",
       "10  Which city has the highest number of film rentals?  \n",
       "3   Which city has the highest number of film rentals?  "
      ]
     },
     "execution_count": 52,
     "metadata": {},
     "output_type": "execute_result"
    }
   ],
   "source": [
    "sentence = sentences[8]\n",
    "result = {table: sim_two_sentences_sentence_embedding(sentence, table) for table in tables}\n",
    "df = pd.DataFrame(result.items(), columns=['table', 'similarity'])\n",
    "df['sentence'] = sentence\n",
    "df = df.sort_values(\"similarity\", ascending=False)\n",
    "\n",
    "# To show all words in a pandas row, you can use the following code:\n",
    "pd.set_option('display.max_rows', None)\n",
    "pd.set_option('display.max_columns', None)\n",
    "pd.set_option('display.width', None)\n",
    "\n",
    "df"
   ]
  }
 ],
 "metadata": {
  "kernelspec": {
   "display_name": "venv",
   "language": "python",
   "name": "python3"
  },
  "language_info": {
   "codemirror_mode": {
    "name": "ipython",
    "version": 3
   },
   "file_extension": ".py",
   "mimetype": "text/x-python",
   "name": "python",
   "nbconvert_exporter": "python",
   "pygments_lexer": "ipython3",
   "version": "3.11.9"
  }
 },
 "nbformat": 4,
 "nbformat_minor": 2
}
